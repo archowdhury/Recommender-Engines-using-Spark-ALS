{
 "cells": [
  {
   "cell_type": "markdown",
   "metadata": {},
   "source": [
    "# Recommender Engine using Spark ALS\n",
    "\n",
    "This project focuses on using the \"Alternating Least Squares (ALS)\" algorithm from Spark to build a recommendation engine for musical instruments\n",
    "\n",
    "The data for this has been taken from actual Amazon reviews. It can be downloaded from the below link:\n",
    "\n",
    "http://deepyeti.ucsd.edu/jianmo/amazon/index.html\n",
    "\n",
    "You can just replace the datasets with any of the review datasets available like appliances, books, software etc. and it will return the corresponding recommendations\n",
    "\n",
    "You need to download both these datasets:\n",
    "<br>1) Reviews data\n",
    "<br>2) Meta data (has the product descriptions)"
   ]
  },
  {
   "cell_type": "markdown",
   "metadata": {},
   "source": [
    "#### Import the required libraries"
   ]
  },
  {
   "cell_type": "code",
   "execution_count": 28,
   "metadata": {},
   "outputs": [],
   "source": [
    "import pandas as pd\n",
    "from pyspark.sql import SparkSession\n",
    "from pyspark.sql import DataFrame\n",
    "\n",
    "from pyspark.ml.evaluation import RegressionEvaluator\n",
    "from pyspark.ml.recommendation import ALS, ALSModel\n",
    "\n",
    "from pyspark.ml.feature import StringIndexer\n",
    "from pyspark.ml import Pipeline\n",
    "from pyspark.sql.functions import col, explode\n",
    "from pyspark.ml.tuning import ParamGridBuilder, TrainValidationSplit"
   ]
  },
  {
   "cell_type": "markdown",
   "metadata": {},
   "source": [
    "#### Create a spark session"
   ]
  },
  {
   "cell_type": "code",
   "execution_count": 2,
   "metadata": {},
   "outputs": [],
   "source": [
    "spark = SparkSession.builder.appName(\"Recommender\").getOrCreate()"
   ]
  },
  {
   "cell_type": "markdown",
   "metadata": {},
   "source": [
    "#### Read in the Reviews data and the Meta data for the product details"
   ]
  },
  {
   "cell_type": "code",
   "execution_count": 3,
   "metadata": {},
   "outputs": [],
   "source": [
    "df = spark.read.json(r'E:\\Machine Learning\\Data\\Musical Instruments Review\\Musical_Instruments.json')\n",
    "df_meta = spark.read.json(r'E:\\Machine Learning\\Data\\Musical Instruments Review\\meta_Musical_Instruments.json')"
   ]
  },
  {
   "cell_type": "markdown",
   "metadata": {},
   "source": [
    "Check the columns in the reviews data"
   ]
  },
  {
   "cell_type": "code",
   "execution_count": 4,
   "metadata": {},
   "outputs": [
    {
     "name": "stdout",
     "output_type": "stream",
     "text": [
      "['asin', 'image', 'overall', 'reviewText', 'reviewTime', 'reviewerID', 'reviewerName', 'style', 'summary', 'unixReviewTime', 'verified', 'vote']\n"
     ]
    }
   ],
   "source": [
    "print(df.columns)"
   ]
  },
  {
   "cell_type": "markdown",
   "metadata": {},
   "source": [
    "Check the columns in the meta data"
   ]
  },
  {
   "cell_type": "code",
   "execution_count": 5,
   "metadata": {},
   "outputs": [
    {
     "name": "stdout",
     "output_type": "stream",
     "text": [
      "['also_buy', 'also_view', 'asin', 'brand', 'category', 'date', 'description', 'details', 'feature', 'fit', 'image', 'main_cat', 'price', 'rank', 'similar_item', 'tech1', 'tech2', 'title']\n"
     ]
    }
   ],
   "source": [
    "print(df_meta.columns)"
   ]
  },
  {
   "cell_type": "markdown",
   "metadata": {},
   "source": [
    "Select only the UserID, ProductID and the Rating columns from the Reviews data"
   ]
  },
  {
   "cell_type": "code",
   "execution_count": 6,
   "metadata": {},
   "outputs": [
    {
     "name": "stdout",
     "output_type": "stream",
     "text": [
      "+--------------+----------+-------+\n",
      "|    reviewerID|      asin|overall|\n",
      "+--------------+----------+-------+\n",
      "| AXHY24HWOF184|0470536454|    5.0|\n",
      "|A29OWR79AM796H|0470536454|    4.0|\n",
      "| AUPWU27A7X5F6|0470536454|    5.0|\n",
      "|A1N69A47D4JO6K|0470536454|    4.0|\n",
      "| AHTIQUMVCGBFJ|0470536454|    5.0|\n",
      "+--------------+----------+-------+\n",
      "only showing top 5 rows\n",
      "\n"
     ]
    }
   ],
   "source": [
    "df_reviews = df.select(['reviewerID','asin','overall'])\n",
    "df_reviews.show(5)"
   ]
  },
  {
   "cell_type": "markdown",
   "metadata": {},
   "source": [
    "Select only the \"distinct\" ProductID (asin) and the Product Name (title) from the product meta data"
   ]
  },
  {
   "cell_type": "code",
   "execution_count": 7,
   "metadata": {},
   "outputs": [
    {
     "name": "stdout",
     "output_type": "stream",
     "text": [
      "+----------+--------------------------------------------------------------------------------+\n",
      "|asin      |title                                                                           |\n",
      "+----------+--------------------------------------------------------------------------------+\n",
      "|B00006343B|Casio GSDX Deluxe Keyboard Stand                                                |\n",
      "|B00007E7Q6|Gemini XL500II Phonograph Turntable                                             |\n",
      "|B0002CBRCQ|Yamaha PSR-295 Portatone 61-Key Touch-Sensitive Musical Keyboard                |\n",
      "|B0002CZVOQ|Schecter Stiletto Elite-4 Electric Bass (4 String, Black Cherry)                |\n",
      "|B0002D02F8|Seymour Duncan Antiquity For Strat Texas Hot Custom-Bridge Pickup (added output)|\n",
      "+----------+--------------------------------------------------------------------------------+\n",
      "only showing top 5 rows\n",
      "\n"
     ]
    }
   ],
   "source": [
    "df_products = df_meta.select(['asin','title']).distinct()\n",
    "df_products.show(5, truncate=False)"
   ]
  },
  {
   "cell_type": "markdown",
   "metadata": {},
   "source": [
    "#### Get a feel for the data volumes - total users, products etc."
   ]
  },
  {
   "cell_type": "markdown",
   "metadata": {},
   "source": [
    "Create temporary tables for running SQL queries"
   ]
  },
  {
   "cell_type": "code",
   "execution_count": 57,
   "metadata": {},
   "outputs": [],
   "source": [
    "df_reviews.createOrReplaceTempView(\"Reviews\")\n",
    "df_products.createOrReplaceTempView(\"Products\")"
   ]
  },
  {
   "cell_type": "code",
   "execution_count": 58,
   "metadata": {},
   "outputs": [
    {
     "name": "stdout",
     "output_type": "stream",
     "text": [
      "Total products : 903330   Total users : 112222   Total rows : 1512530\n"
     ]
    }
   ],
   "source": [
    "stats = spark.sql(\"SELECT COUNT(asin) as total_rows, \\\n",
    "                          COUNT(DISTINCT(asin)) as asin, \\\n",
    "                          COUNT(DISTINCT(reviewerID)) as reviewerID \\\n",
    "                          FROM Reviews\").collect()[0]\n",
    "\n",
    "print(\"Total products : {}   Total users : {}   Total rows : {}\".format(stats['reviewerID'], stats['asin'], stats['total_rows']))"
   ]
  },
  {
   "cell_type": "markdown",
   "metadata": {},
   "source": [
    "## Data Preparation"
   ]
  },
  {
   "cell_type": "markdown",
   "metadata": {},
   "source": [
    "#### Select a smaller dataset to test the approach\n",
    "\n",
    "We have over 1.5 million data points in the musical instruments dataset!. That is too big to be handled by a local Spark instance. Hence for this project we'll restrict to using 10% of the total data"
   ]
  },
  {
   "cell_type": "code",
   "execution_count": 10,
   "metadata": {},
   "outputs": [],
   "source": [
    "df_reviews_small = df_reviews.limit(150000)"
   ]
  },
  {
   "cell_type": "markdown",
   "metadata": {},
   "source": [
    "#### Convert text columns to numeric"
   ]
  },
  {
   "cell_type": "code",
   "execution_count": 11,
   "metadata": {},
   "outputs": [
    {
     "name": "stdout",
     "output_type": "stream",
     "text": [
      "+--------------+----------+-------+----------------+----------+\n",
      "|    reviewerID|      asin|overall|reviewerID_index|asin_index|\n",
      "+--------------+----------+-------+----------------+----------+\n",
      "| AXHY24HWOF184|0470536454|    5.0|        113338.0|     137.0|\n",
      "|A29OWR79AM796H|0470536454|    4.0|         52763.0|     137.0|\n",
      "| AUPWU27A7X5F6|0470536454|    5.0|        111456.0|     137.0|\n",
      "|A1N69A47D4JO6K|0470536454|    4.0|         37395.0|     137.0|\n",
      "| AHTIQUMVCGBFJ|0470536454|    5.0|        102420.0|     137.0|\n",
      "|A1J8LQ7HVLR9GU|0470536454|    5.0|         34605.0|     137.0|\n",
      "| ABVTZ63S6GOWF|0470536454|    5.0|         98348.0|     137.0|\n",
      "|A2HX9NFBXGSWRW|0470536454|    4.0|         58239.0|     137.0|\n",
      "| AP1TQR64HQRCI|0470536454|    4.0|        107555.0|     137.0|\n",
      "| A37FC9MED20AO|0470536454|    5.0|         75792.0|     137.0|\n",
      "+--------------+----------+-------+----------------+----------+\n",
      "only showing top 10 rows\n",
      "\n"
     ]
    }
   ],
   "source": [
    "indexer = [StringIndexer(inputCol = column, outputCol = column + \"_index\") for column in ['reviewerID','asin']]\n",
    "\n",
    "pipeline = Pipeline(stages = indexer)\n",
    "\n",
    "df_reviews_transformed = pipeline.fit(df_reviews_small).transform(df_reviews_small)\n",
    "df_reviews_transformed.show(10)"
   ]
  },
  {
   "cell_type": "markdown",
   "metadata": {},
   "source": [
    "#### Split into training and test data"
   ]
  },
  {
   "cell_type": "code",
   "execution_count": 12,
   "metadata": {},
   "outputs": [],
   "source": [
    "(train, test) = df_reviews_transformed.randomSplit([0.8, 0.2])"
   ]
  },
  {
   "cell_type": "markdown",
   "metadata": {},
   "source": [
    "#### Create the ALS model and specify the parameters for hyperparameter tuning"
   ]
  },
  {
   "cell_type": "code",
   "execution_count": 13,
   "metadata": {},
   "outputs": [],
   "source": [
    "als = ALS(userCol=\"reviewerID_index\",\n",
    "          itemCol=\"asin_index\",\n",
    "          ratingCol=\"overall\",\n",
    "          coldStartStrategy=\"drop\",\n",
    "          nonnegative=True)\n",
    "\n",
    "params = ParamGridBuilder()\\\n",
    "         .addGrid(als.maxIter, [5,10,15])\\\n",
    "         .addGrid(als.rank, [10, 15, 20])\\\n",
    "         .addGrid(als.regParam, [0.1, 0.4])\\\n",
    "         .build()\n",
    "\n",
    "evaluator = RegressionEvaluator(labelCol = \"overall\",\n",
    "                                predictionCol = \"prediction\",\n",
    "                                metricName = \"rmse\")\n",
    "\n",
    "crossVal = TrainValidationSplit(estimator = als,\n",
    "                                estimatorParamMaps = params,\n",
    "                                evaluator=evaluator,\n",
    "                                trainRatio=0.8)"
   ]
  },
  {
   "cell_type": "markdown",
   "metadata": {},
   "source": [
    "#### Fit the training data to the model\n",
    "\n",
    "This step will take a long time as it evaluates multiple models and selects the best one. So feel free to step away for a 15-20 min coffee break while this finishes :)"
   ]
  },
  {
   "cell_type": "code",
   "execution_count": 15,
   "metadata": {},
   "outputs": [],
   "source": [
    "model = crossVal.fit(train)"
   ]
  },
  {
   "cell_type": "markdown",
   "metadata": {},
   "source": [
    "#### Save the model"
   ]
  },
  {
   "cell_type": "code",
   "execution_count": 32,
   "metadata": {},
   "outputs": [],
   "source": [
    "best_model = model.bestModel\n",
    "best_model.save('ALS_best_model')"
   ]
  },
  {
   "cell_type": "markdown",
   "metadata": {},
   "source": [
    "#### Load the model\n",
    "\n",
    "Once you have run and saved the best model you can reload it from this step next time you run the code"
   ]
  },
  {
   "cell_type": "code",
   "execution_count": 14,
   "metadata": {},
   "outputs": [],
   "source": [
    "best_model = ALSModel.load('ALS_best_model')"
   ]
  },
  {
   "cell_type": "markdown",
   "metadata": {},
   "source": [
    "#### Generate the predictions"
   ]
  },
  {
   "cell_type": "code",
   "execution_count": 15,
   "metadata": {},
   "outputs": [],
   "source": [
    "train_pred = best_model.transform(train)\n",
    "test_pred = best_model.transform(test)"
   ]
  },
  {
   "cell_type": "code",
   "execution_count": 16,
   "metadata": {},
   "outputs": [
    {
     "name": "stdout",
     "output_type": "stream",
     "text": [
      "+--------------------+----------+-------+----------------+----------+----------+\n",
      "|          reviewerID|      asin|overall|reviewerID_index|asin_index|prediction|\n",
      "+--------------------+----------+-------+----------------+----------+----------+\n",
      "|A0005916MHK9RK69491E|0739079891|    5.0|         21435.0|      27.0|  4.481688|\n",
      "|A0044312CECEQYZIPS3B|B000068O59|    4.0|         21436.0|     118.0| 3.6588285|\n",
      "|A0096681Y127OL1H8W3U|B0002CZUDS|    5.0|            77.0|     143.0|  4.621826|\n",
      "|A0096681Y127OL1H8W3U|B0002CZWKE|    5.0|            77.0|     227.0|  4.582752|\n",
      "|A0096681Y127OL1H8W3U|B0002D06IG|    5.0|            77.0|     411.0| 4.3432307|\n",
      "|A0096681Y127OL1H8W3U|B0002E2NEK|    5.0|            77.0|     106.0| 4.5630455|\n",
      "|A0096681Y127OL1H8W3U|B0002E2NFO|    5.0|            77.0|     196.0| 4.2879457|\n",
      "|A0096681Y127OL1H8W3U|B0002E52AW|    5.0|            77.0|     715.0|  4.460223|\n",
      "|A0096681Y127OL1H8W3U|B0002F77PO|    4.0|            77.0|     944.0| 4.1705194|\n",
      "|A0096681Y127OL1H8W3U|B0002H0JZ2|    5.0|            77.0|      15.0|  4.533741|\n",
      "+--------------------+----------+-------+----------------+----------+----------+\n",
      "only showing top 10 rows\n",
      "\n"
     ]
    }
   ],
   "source": [
    "train_pred.show(10)"
   ]
  },
  {
   "cell_type": "code",
   "execution_count": 17,
   "metadata": {},
   "outputs": [
    {
     "name": "stdout",
     "output_type": "stream",
     "text": [
      "+--------------------+----------+-------+----------------+----------+----------+\n",
      "|          reviewerID|      asin|overall|reviewerID_index|asin_index|prediction|\n",
      "+--------------------+----------+-------+----------------+----------+----------+\n",
      "|A0072193KFP6LUHKEXLT|B000068O35|    4.0|         21437.0|      31.0|  3.636929|\n",
      "|A0096681Y127OL1H8W3U|B0002D0NJ8|    5.0|            77.0|      81.0|   4.56794|\n",
      "|A0096681Y127OL1H8W3U|B0002D0QW2|    5.0|            77.0|     631.0| 4.4112897|\n",
      "|A0096681Y127OL1H8W3U|B0002GJ3E6|    5.0|            77.0|     348.0| 4.1839924|\n",
      "|A0103849GBVWICKXD4T6|B0002D035C|    5.0|          2880.0|     102.0|  3.920868|\n",
      "|A0133510AABKV6ANFN5H|B0002GJILE|    5.0|         21439.0|     469.0| 4.5611115|\n",
      "|A02196236Z4QJMRQADW1|B0002E1G5C|    5.0|         21442.0|       3.0|  4.555663|\n",
      "| A0240957MWDGNUMT3GF|B0002DV6TO|    1.0|         21443.0|      42.0|0.91423136|\n",
      "|A0279100VZXR9A2495P4|B0002D017M|    5.0|         21447.0|      40.0| 4.5828023|\n",
      "|A0326684HE4FUBTB3FC8|B0002GZ64M|    4.0|         21450.0|     152.0| 3.6593568|\n",
      "+--------------------+----------+-------+----------------+----------+----------+\n",
      "only showing top 10 rows\n",
      "\n"
     ]
    }
   ],
   "source": [
    "test_pred.show(10)"
   ]
  },
  {
   "cell_type": "markdown",
   "metadata": {},
   "source": [
    "#### Evaluate the performance by checking the RMSE score"
   ]
  },
  {
   "cell_type": "code",
   "execution_count": 18,
   "metadata": {},
   "outputs": [
    {
     "name": "stdout",
     "output_type": "stream",
     "text": [
      "RMSE on training : 0.534348253925742 \n",
      "RMSE for test : 0.5400845854834098\n"
     ]
    }
   ],
   "source": [
    "train_rmse = evaluator.evaluate(train_pred)\n",
    "test_rmse  = evaluator.evaluate(test_pred)\n",
    "print(\"RMSE on training : {} \\nRMSE for test : {}\".format(train_rmse, test_rmse))"
   ]
  },
  {
   "cell_type": "markdown",
   "metadata": {},
   "source": [
    "We can see that the RMSE scores for both train and test sets are comparable (which means the model is not overfitting), and that both are reasonably small which means that the model is pretty good"
   ]
  },
  {
   "cell_type": "markdown",
   "metadata": {},
   "source": [
    "## Get the recommendations for all users"
   ]
  },
  {
   "cell_type": "code",
   "execution_count": 31,
   "metadata": {},
   "outputs": [
    {
     "name": "stdout",
     "output_type": "stream",
     "text": [
      "+----------------+--------------------+\n",
      "|reviewerID_index|     recommendations|\n",
      "+----------------+--------------------+\n",
      "|             148|[[1836, 4.873973]...|\n",
      "|             463|[[1836, 4.735553]...|\n",
      "|             471|[[1739, 4.3731275...|\n",
      "|             496|[[1836, 4.792375]...|\n",
      "|             833|[[1635, 4.988263]...|\n",
      "+----------------+--------------------+\n",
      "only showing top 5 rows\n",
      "\n"
     ]
    }
   ],
   "source": [
    "recommendations = best_model.recommendForAllUsers(10)\n",
    "recommendations.show(5)"
   ]
  },
  {
   "cell_type": "markdown",
   "metadata": {},
   "source": [
    "#### Convert the recommendations back into a format which tells us the actual user/item from the original data"
   ]
  },
  {
   "cell_type": "markdown",
   "metadata": {},
   "source": [
    "Get the reviewerID_index and reviewerID mapping"
   ]
  },
  {
   "cell_type": "code",
   "execution_count": 23,
   "metadata": {},
   "outputs": [
    {
     "name": "stdout",
     "output_type": "stream",
     "text": [
      "+----------------+--------------+\n",
      "|reviewerID_index|    reviewerID|\n",
      "+----------------+--------------+\n",
      "|        113338.0| AXHY24HWOF184|\n",
      "|         52763.0|A29OWR79AM796H|\n",
      "|        111456.0| AUPWU27A7X5F6|\n",
      "|         37395.0|A1N69A47D4JO6K|\n",
      "|        102420.0| AHTIQUMVCGBFJ|\n",
      "+----------------+--------------+\n",
      "only showing top 5 rows\n",
      "\n"
     ]
    }
   ],
   "source": [
    "map_reviewer = df_reviews_transformed.select('reviewerID_index','reviewerID').distinct()\n",
    "map_reviewer.show(5)"
   ]
  },
  {
   "cell_type": "markdown",
   "metadata": {},
   "source": [
    "Get the asin_index and asin mapping"
   ]
  },
  {
   "cell_type": "code",
   "execution_count": 59,
   "metadata": {},
   "outputs": [
    {
     "name": "stdout",
     "output_type": "stream",
     "text": [
      "+----------+----------+\n",
      "|asin_index|      asin|\n",
      "+----------+----------+\n",
      "|     137.0|0470536454|\n",
      "|    1692.0|0615582222|\n",
      "|      27.0|0739079891|\n",
      "|     485.0|0739079883|\n",
      "|    1232.0|0739084542|\n",
      "+----------+----------+\n",
      "only showing top 5 rows\n",
      "\n"
     ]
    }
   ],
   "source": [
    "map_asin = df_reviews_transformed.select('asin_index','asin').distinct()\n",
    "map_asin.show(5)"
   ]
  },
  {
   "cell_type": "markdown",
   "metadata": {},
   "source": [
    "Join all the different datasets together to get the final formatted recommendations"
   ]
  },
  {
   "cell_type": "code",
   "execution_count": 60,
   "metadata": {},
   "outputs": [
    {
     "name": "stdout",
     "output_type": "stream",
     "text": [
      "+--------------+----------+---------+--------------------------------------------------------------------+\n",
      "|reviewerID    |asin      |rating   |title                                                               |\n",
      "+--------------+----------+---------+--------------------------------------------------------------------+\n",
      "|A1A9WJHKBSTI4C|B0002D0EMO|4.873973 |Kyser Instrument Polish                                             |\n",
      "|A1A9WJHKBSTI4C|B0002E2G3S|4.8514533|Fender American Vintage Stratocaster Tremolo Arm - Chrome           |\n",
      "|A1A9WJHKBSTI4C|B0002DUYJW|4.8422904|Ernie Ball Pedal Steel Nickel Wound 10-String Set, E9 Tuning        |\n",
      "|A1A9WJHKBSTI4C|B0002E38BW|4.796107 |Monster Bass - 21' Instrument Cable -  Straight to Straight ¼” plugs|\n",
      "|A1A9WJHKBSTI4C|B0002F7402|4.7809873|Vic Firth American Classic Metal Nylon Drumsticks (CMN)             |\n",
      "|A1A9WJHKBSTI4C|B0002D050U|4.7790837|Zildjian A Series 21\" Sweet Ride Cymbal                             |\n",
      "|A1A9WJHKBSTI4C|B0002F7J3O|4.7730007|Remo FA1522-00 22-Inch Fiberskyn 3 Ambassador Bass Drum Head        |\n",
      "|A1A9WJHKBSTI4C|B0002GL0LA|4.736883 |Seymour Duncan SSL1 Vintage Staggered Single Coil Pickup - (New)    |\n",
      "|A1A9WJHKBSTI4C|B0002F7ABA|4.7242026|DiMarzio X2N Humbucker Pickup - Black                               |\n",
      "|A1A9WJHKBSTI4C|B0002F7KJM|4.722245 |Latin Percussion Compact Quinto, 11-inch                            |\n",
      "|A54S9CIUV5VNB |B0002D0EMO|4.735553 |Kyser Instrument Polish                                             |\n",
      "|A54S9CIUV5VNB |B0002E38BW|4.652754 |Monster Bass - 21' Instrument Cable -  Straight to Straight ¼” plugs|\n",
      "|A54S9CIUV5VNB |B0002D050U|4.6095247|Zildjian A Series 21\" Sweet Ride Cymbal                             |\n",
      "|A54S9CIUV5VNB |B0002F78QW|4.5738773|Gibraltar SC-GRSSMC Road Series Super Multi Clamp                   |\n",
      "|A54S9CIUV5VNB |B0002CZWOA|4.5554953|Promark PW7AN Japanese Shira Kashi White Oak 7A Nylon tip drumsticks|\n",
      "|A54S9CIUV5VNB |B0002DUYJW|4.552689 |Ernie Ball Pedal Steel Nickel Wound 10-String Set, E9 Tuning        |\n",
      "|A54S9CIUV5VNB |B0002F783A|4.5483646|Gibraltar SC-BF Bass Drum Felt Strips 2/Pack                        |\n",
      "|A54S9CIUV5VNB |B0002D0OP6|4.5455003|Roland KC-350 4-Channel 120-Watt Stereo Mixing Keyboard Amplifier   |\n",
      "|A54S9CIUV5VNB |B0002E2G3S|4.532613 |Fender American Vintage Stratocaster Tremolo Arm - Chrome           |\n",
      "|A54S9CIUV5VNB |B0002F741G|4.5279503|Vic Firth American Classic 5A Nylon Drumsticks (5AN)                |\n",
      "+--------------+----------+---------+--------------------------------------------------------------------+\n",
      "only showing top 20 rows\n",
      "\n"
     ]
    }
   ],
   "source": [
    "final_recos = recommendations\\\n",
    "             .withColumn('col4',explode('recommendations'))\\\n",
    "             .select('reviewerID_index','col4.*')\\\n",
    "             .join(map_reviewer, 'reviewerID_index')\\\n",
    "             .join(map_asin, 'asin_index')\\\n",
    "             .join(df_products, 'asin')\\\n",
    "             .select('reviewerID','asin','rating','title')\n",
    "\n",
    "final_recos.show(truncate=False)"
   ]
  },
  {
   "cell_type": "markdown",
   "metadata": {},
   "source": [
    "## Check the recommendations for a given user"
   ]
  },
  {
   "cell_type": "markdown",
   "metadata": {},
   "source": [
    "Let us pick some userIDs who have reviewed a few products"
   ]
  },
  {
   "cell_type": "code",
   "execution_count": 34,
   "metadata": {},
   "outputs": [
    {
     "name": "stdout",
     "output_type": "stream",
     "text": [
      "+--------------+-----+\n",
      "|    reviewerID|count|\n",
      "+--------------+-----+\n",
      "|A2NYK9KWFMJV4Y|   13|\n",
      "|A15TYOEWBQYF0X|    7|\n",
      "|A10HS51L0GC1R4|    7|\n",
      "|A1FOXJ8TMYVKRK|    7|\n",
      "|A1S7QABO64Z554|    6|\n",
      "|A3SMT15X2QVUR8|    6|\n",
      "|A1MAQQXJZTMSKT|    6|\n",
      "|A20JJ8634DG3FS|    6|\n",
      "|A2SUG35F6A6S3C|    6|\n",
      "|A2BGZ52M908MJY|    5|\n",
      "+--------------+-----+\n",
      "only showing top 10 rows\n",
      "\n"
     ]
    }
   ],
   "source": [
    "test.groupBy('reviewerID').count().sort(col('count').desc()).show(10)"
   ]
  },
  {
   "cell_type": "code",
   "execution_count": 54,
   "metadata": {},
   "outputs": [],
   "source": [
    "user_ID = 'A15TYOEWBQYF0X'"
   ]
  },
  {
   "cell_type": "markdown",
   "metadata": {},
   "source": [
    "Show the items this user has already reviewed/purchased"
   ]
  },
  {
   "cell_type": "code",
   "execution_count": 55,
   "metadata": {},
   "outputs": [
    {
     "name": "stdout",
     "output_type": "stream",
     "text": [
      "+----------+--------------+-----------------------------------------------------------------------------------------------+\n",
      "|asin      |reviewerID    |title                                                                                          |\n",
      "+----------+--------------+-----------------------------------------------------------------------------------------------+\n",
      "|B0002DUPZU|A15TYOEWBQYF0X|Ernie Ball Earthwood Light Phosphor Bronze Acoustic String Set, .011 - .052                    |\n",
      "|B0002D0JZ6|A15TYOEWBQYF0X|Pignose 7-100 Legendary portable amplifier                                                     |\n",
      "|B0002E1O2W|A15TYOEWBQYF0X|Elixir Strings Electric Guitar Strings w NANOWEB Coating, Super Light (.009-.042)              |\n",
      "|B0002D0LP4|A15TYOEWBQYF0X|Gibson Regular Style 2 Inch Safety Guitar Strap, Jet Black                                     |\n",
      "|B0002E1NWI|A15TYOEWBQYF0X|Elixir Strings 80/20 Bronze Acoustic Guitar Strings w POLYWEB Coating, Light/Medium (.012-.056)|\n",
      "|B0002GZTT4|A15TYOEWBQYF0X|Ernie Ball Instrument Polish with mircofiber cloth                                             |\n",
      "|B0002E3CK4|A15TYOEWBQYF0X|D'Addario EXL120-7 Nickel Wound 7-String Electric Guitar Strings, Super Light, 9-54            |\n",
      "+----------+--------------+-----------------------------------------------------------------------------------------------+\n",
      "\n"
     ]
    }
   ],
   "source": [
    "test.filter(col('reviewerID') == user_ID)\\\n",
    ".select('reviewerID','asin')\\\n",
    ".join(df_products, 'asin')\\\n",
    ".show(truncate=False)"
   ]
  },
  {
   "cell_type": "markdown",
   "metadata": {},
   "source": [
    "Check the items recommended for this user"
   ]
  },
  {
   "cell_type": "code",
   "execution_count": 56,
   "metadata": {},
   "outputs": [
    {
     "name": "stdout",
     "output_type": "stream",
     "text": [
      "+--------------+----------+---------+--------------------------------------------------------------------+\n",
      "|reviewerID    |asin      |rating   |title                                                               |\n",
      "+--------------+----------+---------+--------------------------------------------------------------------+\n",
      "|A15TYOEWBQYF0X|B0002D0EMO|4.879595 |Kyser Instrument Polish                                             |\n",
      "|A15TYOEWBQYF0X|B0002F7402|4.8672314|Vic Firth American Classic Metal Nylon Drumsticks (CMN)             |\n",
      "|A15TYOEWBQYF0X|B0002E38BW|4.829496 |Monster Bass - 21' Instrument Cable -  Straight to Straight ¼” plugs|\n",
      "|A15TYOEWBQYF0X|B0002E2G3S|4.817302 |Fender American Vintage Stratocaster Tremolo Arm - Chrome           |\n",
      "|A15TYOEWBQYF0X|B0002E37T0|4.7553754|Monster Jazz -21'  Instrument Cable -  Straight to Straight ¼” plugs|\n",
      "|A15TYOEWBQYF0X|B0002DUYJW|4.741025 |Ernie Ball Pedal Steel Nickel Wound 10-String Set, E9 Tuning        |\n",
      "|A15TYOEWBQYF0X|B0002F4YF0|4.7362065|Hodge Silk Soprano Sax Swab, Black                                  |\n",
      "|A15TYOEWBQYF0X|B0002F7KJM|4.7284174|Latin Percussion Compact Quinto, 11-inch                            |\n",
      "|A15TYOEWBQYF0X|B0002D0MGC|4.7065735|Gibson Gear PRJP-030 Jack Plate, Creme Plastic                      |\n",
      "|A15TYOEWBQYF0X|B0002CZSUI|4.7036934|Martin Marquis 80/20 Bronze Acoustic Guitar Strings                 |\n",
      "+--------------+----------+---------+--------------------------------------------------------------------+\n",
      "\n"
     ]
    }
   ],
   "source": [
    "final_recos.filter(col('reviewerID') == user_ID).show(truncate=False)"
   ]
  },
  {
   "cell_type": "markdown",
   "metadata": {},
   "source": [
    "## Summary\n",
    "We can see that this user seems to be a Guitar player, and that many of the recommendations for this user do recommend items related to the guitar. This recommendation engine seems to be working well!"
   ]
  }
 ],
 "metadata": {
  "kernelspec": {
   "display_name": "Python 3",
   "language": "python",
   "name": "python3"
  },
  "language_info": {
   "codemirror_mode": {
    "name": "ipython",
    "version": 3
   },
   "file_extension": ".py",
   "mimetype": "text/x-python",
   "name": "python",
   "nbconvert_exporter": "python",
   "pygments_lexer": "ipython3",
   "version": "3.7.6"
  }
 },
 "nbformat": 4,
 "nbformat_minor": 4
}
